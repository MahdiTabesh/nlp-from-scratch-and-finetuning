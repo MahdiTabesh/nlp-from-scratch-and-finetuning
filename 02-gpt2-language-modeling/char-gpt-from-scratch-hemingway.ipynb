{
 "cells": [
  {
   "cell_type": "markdown",
   "id": "fb33f1a1-f3f3-4441-83de-7b66c1bf4022",
   "metadata": {},
   "source": [
    "# Character-Level GPT from Scratch\n",
    "Implementation of a small GPT-like language model in PyTorch, trained on Hemingway text."
   ]
  },
  {
   "cell_type": "code",
   "execution_count": 1,
   "id": "9abce638",
   "metadata": {
    "colab": {
     "base_uri": "https://localhost:8080/"
    },
    "id": "9abce638",
    "outputId": "c82e9bec-54c5-4dfa-896d-6244d0856379"
   },
   "outputs": [
    {
     "data": {
      "text/plain": [
       "<torch._C.Generator at 0x7b82e04eb7d0>"
      ]
     },
     "execution_count": 1,
     "metadata": {},
     "output_type": "execute_result"
    }
   ],
   "source": [
    "import torch\n",
    "import torch.nn as nn\n",
    "from torch.nn import functional as F\n",
    "\n",
    "# Hyperparameters\n",
    "batch_size = 64 \n",
    "block_size = 128 \n",
    "max_iters = 5000 \n",
    "\n",
    "eval_interval = 500\n",
    "learning_rate = 3e-4\n",
    "\n",
    "device = 'cuda' if torch.cuda.is_available() else 'cpu'\n",
    "\n",
    "eval_iters = 200\n",
    "d_model = 384\n",
    "n_head = 6 # Number of attention heads\n",
    "n_layer = 6 # Number of transformer layers\n",
    "dropout = 0.2\n",
    "# ------------\n",
    "\n",
    "torch.manual_seed(1337)"
   ]
  },
  {
   "cell_type": "code",
   "execution_count": 2,
   "id": "FONrRI-iKuaB",
   "metadata": {
    "colab": {
     "base_uri": "https://localhost:8080/"
    },
    "id": "FONrRI-iKuaB",
    "outputId": "bf6e96a1-1cbc-4432-8e44-9301054dd0ba"
   },
   "outputs": [
    {
     "name": "stdout",
     "output_type": "stream",
     "text": [
      "Downloading...\n",
      "From: https://drive.google.com/uc?export=download&id=1RlmRmXiWVKpZq98ftdtOIdM2lsA1uw3j\n",
      "To: /content/hemingway.txt\n",
      "\r",
      "  0% 0.00/133k [00:00<?, ?B/s]\r",
      "100% 133k/133k [00:00<00:00, 118MB/s]\n"
     ]
    }
   ],
   "source": [
    "!gdown 'https://drive.google.com/uc?export=download&id=1RlmRmXiWVKpZq98ftdtOIdM2lsA1uw3j'"
   ]
  },
  {
   "cell_type": "code",
   "execution_count": 3,
   "id": "Q8ZmhKjbz-xI",
   "metadata": {
    "colab": {
     "base_uri": "https://localhost:8080/"
    },
    "id": "Q8ZmhKjbz-xI",
    "outputId": "9020852c-74cc-4e91-d471-2c2ba4148c55"
   },
   "outputs": [
    {
     "name": "stdout",
     "output_type": "stream",
     "text": [
      "hemingway.txt  sample_data\n"
     ]
    }
   ],
   "source": [
    "!ls"
   ]
  },
  {
   "cell_type": "code",
   "execution_count": 4,
   "id": "1930b1d3",
   "metadata": {
    "id": "1930b1d3"
   },
   "outputs": [],
   "source": [
    "with open('hemingway.txt', 'r', encoding='utf-8') as f:\n",
    "    text = f.read()\n",
    "\n",
    "# Here are all the unique characters that occur in this text\n",
    "chars = sorted(list(set(text)))\n",
    "vocab_size = len(chars)\n",
    "# Create a mapping from characters to integers\n",
    "stoi = { ch:i for i,ch in enumerate(chars) }\n",
    "itos = { i:ch for i,ch in enumerate(chars) }\n",
    "encode = lambda s: [stoi[c] for c in s] # Encoder: take a string, output a list of integers\n",
    "decode = lambda l: ''.join([itos[i] for i in l]) # Decoder: take a list of integers, output a string\n",
    "\n",
    "# Train and Test splits\n",
    "data = torch.tensor(encode(text), dtype=torch.long)\n",
    "n = int(0.9*len(data)) # First 90% will be train, rest val\n",
    "train_data = data[:n]\n",
    "val_data = data[n:]"
   ]
  },
  {
   "cell_type": "code",
   "execution_count": 5,
   "id": "bade6f32",
   "metadata": {
    "id": "bade6f32"
   },
   "outputs": [],
   "source": [
    "# Data loading\n",
    "def get_batch(split):\n",
    "    # Generate a small batch of data of inputs x and targets y\n",
    "    data = train_data if split == 'train' else val_data\n",
    "    # Randomly select batch_size rows from data's row indices\n",
    "    ix = torch.randint(0, len(data) - block_size, (batch_size,))\n",
    "    # Select batch_size chuncks of text each of size block_size; stack them\n",
    "    xb = torch.stack([data[i : i+block_size] for i in ix])\n",
    "\n",
    "    yb = torch.stack([data[i+1 : i+block_size+1] for i in ix])\n",
    "    xb, yb = xb.to(device), yb.to(device)\n",
    "\n",
    "    return xb, yb"
   ]
  },
  {
   "cell_type": "code",
   "execution_count": 6,
   "id": "938086a6",
   "metadata": {
    "id": "938086a6"
   },
   "outputs": [],
   "source": [
    "@torch.no_grad()\n",
    "def estimate_loss(model):\n",
    "    out = {}\n",
    "\n",
    "    for split in ['train', 'val']:\n",
    "        losses = torch.zeros(eval_iters)\n",
    "        for k in range(eval_iters):\n",
    "            # Get a batch of data\n",
    "            xb, yb = get_batch(split)\n",
    "            # Get the mean and loss\n",
    "            logits, loss = model(xb, yb)\n",
    "            # Get the loss for this batch\n",
    "            losses[k] = loss.item()\n",
    "\n",
    "        out[split] = losses.mean().item()\n",
    "\n",
    "    return out"
   ]
  },
  {
   "cell_type": "code",
   "execution_count": null,
   "id": "a54adb41",
   "metadata": {
    "id": "a54adb41"
   },
   "outputs": [],
   "source": []
  },
  {
   "cell_type": "code",
   "execution_count": 7,
   "id": "10e26176",
   "metadata": {
    "id": "10e26176"
   },
   "outputs": [],
   "source": [
    "class Head(nn.Module):\n",
    "    \"\"\"\n",
    "    Single head of masked self-attention (decoder-only setup).\n",
    "    \"\"\"\n",
    "\n",
    "    def __init__(self, d_head):\n",
    "        super().__init__()\n",
    "        self.d_head = d_head\n",
    "        # Map each key, query, or value in to a d_head dimensional model.\n",
    "        # Each should be matrices from d_model to d_head\n",
    "        self.W_K = nn.Linear(d_model, d_head, bias=False)\n",
    "        self.W_Q = nn.Linear(d_model, d_head, bias=False)\n",
    "        self.W_V = nn.Linear(d_model, d_head, bias=False)\n",
    "        self.d_head = d_head\n",
    "        self.register_buffer('tril', torch.tril(torch.ones(block_size, block_size)))\n",
    "\n",
    "        self.dropout = nn.Dropout(dropout)\n",
    "\n",
    "    def forward(self, x):\n",
    "        B,T,d = x.shape\n",
    "        # Get the key and query representations from the embedding x\n",
    "        k = self.W_K(x)\n",
    "\n",
    "        q = self.W_Q(x)\n",
    "\n",
    "        v = self.W_V(x)\n",
    "\n",
    "\n",
    "        scores = q @ k.transpose(1, 2) / (self.d_head ** 0.5)\n",
    "\n",
    "        # Apply a mask to scores, making all scores above the diagonal -inf\n",
    "        scores = scores.masked_fill(self.tril[:T, :T] == 0, float('-inf'))\n",
    "\n",
    "        # Apply softmax to the final dimension of scores\n",
    "        a =  F.softmax(scores, dim=-1)\n",
    "\n",
    "        # Apply dropout\n",
    "        a = self.dropout(a)\n",
    "        # Perform the weighted aggregation of the values\n",
    "        out = a @ v\n",
    "        # For each token, return the weighted sum of the values\n",
    "        return out\n",
    "\n",
    "class MultiHeadAttention(nn.Module):\n",
    "\n",
    "    def __init__(self, num_heads, d_head):\n",
    "        super().__init__()\n",
    "        self.heads = nn.ModuleList([Head(d_head) for _ in range(num_heads)])\n",
    "        # This is to project back to the dimension of d_model. In this case, it is just a learned linear map\n",
    "        self.W_O = nn.Linear(num_heads * d_head, num_heads * d_head)\n",
    "        self.dropout = nn.Dropout(dropout)\n",
    "\n",
    "    def forward(self, x):\n",
    "        # Concatenate the different representations per head along the last dimension\n",
    "        out = torch.cat([h(x) for h in self.heads], dim=-1)\n",
    "        # Project the concatenation and apply dropout; this is the W_O in \"Attention is all you need\"\n",
    "        out = self.W_O(out)\n",
    "        out = self.dropout(out)\n",
    "        return out\n"
   ]
  },
  {
   "cell_type": "code",
   "execution_count": 8,
   "id": "XdEtmrPm7ZCD",
   "metadata": {
    "id": "XdEtmrPm7ZCD"
   },
   "outputs": [],
   "source": [
    "class FeedFoward(nn.Module):\n",
    "    \"\"\"\n",
    "    A simple linear layer followed by a non-linearity; this is applied at the token level\n",
    "    \"\"\"\n",
    "\n",
    "    def __init__(self, d_model):\n",
    "        super().__init__()\n",
    "        d_ff = 4 * d_model\n",
    "        \n",
    "        self.ff = nn.Sequential(\n",
    "            nn.Linear(d_model, 4 * d_model),\n",
    "            nn.ReLU(),\n",
    "            nn.Linear(4 * d_model, d_model),\n",
    "            nn.Dropout(dropout)\n",
    "        )\n",
    "    def forward(self, x):\n",
    "        return self.ff(x)"
   ]
  },
  {
   "cell_type": "code",
   "execution_count": 9,
   "id": "ddb29049",
   "metadata": {
    "id": "ddb29049"
   },
   "outputs": [],
   "source": [
    "class DecoderBlock(nn.Module):\n",
    "    \"\"\"\n",
    "    Transformer decoder block: communication followed by computation\n",
    "    These are stacked on top of each other one after another\n",
    "    \"\"\"\n",
    "\n",
    "    def __init__(self, d_model, n_head):\n",
    "        super().__init__()\n",
    "        # Each head gets a smaller dimensional representation of the data\n",
    "        # Assume each head gets a representation of dimension d_head and d_model is divisible by n_head\n",
    "        d_head = d_model // n_head\n",
    "        self.sa = MultiHeadAttention(n_head, d_head)\n",
    "        self.ff = FeedFoward(d_model)\n",
    "        self.ln1 = nn.LayerNorm(d_model)\n",
    "        self.ln2 = nn.LayerNorm(d_model)\n",
    "\n",
    "    def forward(self, x):\n",
    "        \"\"\"\n",
    "        Transformer decoder block: self-attention + feedforward with residuals and layer norm\n",
    "        \"\"\"\n",
    "\n",
    "        x = x + self.sa(self.ln1(x))\n",
    "        x = x + self.ff(self.ln2(x))\n",
    "        return x\n"
   ]
  },
  {
   "cell_type": "code",
   "execution_count": 10,
   "id": "5c230527",
   "metadata": {
    "id": "5c230527"
   },
   "outputs": [],
   "source": [
    "class GPT(nn.Module):\n",
    "    def __init__(self):\n",
    "        super().__init__()\n",
    "\n",
    "        self.token_embedding_table = nn.Embedding(vocab_size, d_model)\n",
    "        # Position embeddings are from block_size (T) to d_model\n",
    "        self.position_embedding_table = nn.Embedding(block_size, d_model)\n",
    "\n",
    "        self.blocks = nn.Sequential(*[DecoderBlock(d_model, n_head) for _ in range(n_layer)])\n",
    "         # Final layer norm\n",
    "        self.ln = nn.LayerNorm(d_model)\n",
    "        self.ff = nn.Linear(d_model, vocab_size)\n",
    "\n",
    "    def forward(self, idx, targets=None):\n",
    "        B, T = idx.shape\n",
    "\n",
    "        tok_emb = self.token_embedding_table(idx)\n",
    "        pos_emb = self.position_embedding_table(torch.arange(T, device=idx.device))\n",
    "\n",
    "        x = tok_emb + pos_emb\n",
    "\n",
    "\n",
    "        x = self.blocks(x)\n",
    "\n",
    "        # Apply layer norm\n",
    "        x = self.ln(x)\n",
    "\n",
    "        # Apply the final linear map, to get to dimension vocab_size\n",
    "        logits = self.ff(x)\n",
    "\n",
    "        if targets is None:\n",
    "            loss = None\n",
    "        else:\n",
    "            B, T, V = logits.shape\n",
    "            logits = logits.view(B*T, V)\n",
    "            targets = targets.view(B*T)\n",
    "            loss = F.cross_entropy(logits, targets)\n",
    "\n",
    "        return logits, loss\n",
    "\n",
    "    def generate(self, idx, max_new_tokens):\n",
    "\n",
    "        self.eval()\n",
    "        for _ in range(max_new_tokens):\n",
    "            idx_cond = idx[:, -block_size:]\n",
    "\n",
    "            # Get the predictions\n",
    "            logits, loss = self(idx_cond)\n",
    "\n",
    "            # Focus only on the last time step, get the logits\n",
    "            logits = logits[:, -1, :]\n",
    "\n",
    "            # Apply softmax to get probabilities\n",
    "            probs = F.softmax(logits, dim=-1)\n",
    "\n",
    "            # Sample from the distribution proporttional to probs\n",
    "            idx_next = torch.multinomial(probs, num_samples=1)\n",
    "\n",
    "            # Append sampled index to the running sequence\n",
    "            idx = torch.cat((idx, idx_next), dim=1)\n",
    "        self.train()\n",
    "        return idx\n",
    "\n",
    "\n"
   ]
  },
  {
   "cell_type": "code",
   "execution_count": 11,
   "id": "ThiIDDj1gWse",
   "metadata": {
    "id": "ThiIDDj1gWse"
   },
   "outputs": [],
   "source": [
    "class EarlyStopping:\n",
    "    def __init__(self, tolerance=5, min_delta=0):\n",
    "\n",
    "        self.tolerance = tolerance\n",
    "        self.min_delta = min_delta\n",
    "        self.counter = 0\n",
    "        self.early_stop = False\n",
    "\n",
    "    def __call__(self, train_loss, validation_loss):\n",
    "        if (validation_loss - train_loss) / train_loss > self.min_delta:\n",
    "            self.counter += 1\n",
    "            if self.counter >= self.tolerance:\n",
    "                self.early_stop = True"
   ]
  },
  {
   "cell_type": "code",
   "execution_count": 17,
   "id": "sJu3FQkBqT_o",
   "metadata": {
    "colab": {
     "base_uri": "https://localhost:8080/"
    },
    "id": "sJu3FQkBqT_o",
    "outputId": "6dc9ec0e-7824-425a-d5f4-2df6e174af2c"
   },
   "outputs": [
    {
     "name": "stdout",
     "output_type": "stream",
     "text": [
      "Number of parameters: 10737470\n",
      "step 0: train loss 4.2316, val loss 4.2343\n",
      "step 500: train loss 1.4925, val loss 1.5491\n",
      "step 1000: train loss 1.1821, val loss 1.3861\n",
      "step 1500: train loss 1.0072, val loss 1.3924\n",
      "step 2000: train loss 0.8604, val loss 1.4523\n",
      "We stop at epoch 2000\n"
     ]
    }
   ],
   "source": [
    "model = GPT().to(device)\n",
    "# Print the number of parameters in the model\n",
    "print(f\"Number of parameters: {sum(p.numel() for p in model.parameters())}\")\n",
    "\n",
    "# Create a PyTorch optimizer\n",
    "optimizer = torch.optim.AdamW(model.parameters(), lr=learning_rate)\n",
    "scheduler = torch.optim.lr_scheduler.StepLR(optimizer, 1, gamma=0.9)\n",
    "early_stopping = EarlyStopping(tolerance=5, min_delta=0)\n",
    "\n",
    "for iter in range(max_iters):\n",
    "\n",
    "    # every once in a while evaluate the loss on train and val sets\n",
    "    if iter % eval_interval == 0 or iter == max_iters - 1:\n",
    "        if iter:\n",
    "          scheduler.step()\n",
    "        losses = estimate_loss(model)\n",
    "        print(f\"step {iter}: train loss {losses['train']:.4f}, val loss {losses['val']:.4f}\")\n",
    "        early_stopping(losses['train'], losses['val'])\n",
    "        if early_stopping.early_stop:\n",
    "          print(\"We stop at epoch {}\".format(iter))\n",
    "          break\n",
    "\n",
    "\n",
    "    # Sample a batch of data\n",
    "    xb, yb = get_batch('train')\n",
    "\n",
    "    # Evaluate the loss\n",
    "    logits, loss = model(xb, yb)\n",
    "    optimizer.zero_grad(set_to_none=True)\n",
    "    loss.backward()\n",
    "    optimizer.step()\n"
   ]
  },
  {
   "cell_type": "code",
   "execution_count": 18,
   "id": "2037f214",
   "metadata": {
    "colab": {
     "base_uri": "https://localhost:8080/"
    },
    "id": "2037f214",
    "outputId": "e2c8f8a7-b681-40e0-9020-e1d3f9fdeca4"
   },
   "outputs": [
    {
     "name": "stdout",
     "output_type": "stream",
     "text": [
      "\n",
      "\n",
      "On the sea and picked a hurricane with his left hand had all to worked the dark and take the tuna o\n"
     ]
    },
    {
     "data": {
      "text/plain": [
       "101"
      ]
     },
     "execution_count": 18,
     "metadata": {},
     "output_type": "execute_result"
    }
   ],
   "source": [
    "# This is technically doing generations in batches, but here we have a batch size of 1 and 1 element to start in the batch\n",
    "context = torch.zeros((1, 1), dtype=torch.long, device=device)\n",
    "print(decode(model.generate(context, max_new_tokens=100)[0].tolist()))\n",
    "open('fake_hemingway.txt', 'w').write(decode(model.generate(context, max_new_tokens=100)[0].tolist()))"
   ]
  },
  {
   "cell_type": "code",
   "execution_count": 19,
   "id": "8163ae4f",
   "metadata": {
    "id": "8163ae4f"
   },
   "outputs": [],
   "source": [
    "torch.save(model.state_dict(), 'gpt.pt')"
   ]
  },
  {
   "cell_type": "code",
   "execution_count": 20,
   "id": "ea4432ff",
   "metadata": {
    "colab": {
     "base_uri": "https://localhost:8080/"
    },
    "id": "ea4432ff",
    "outputId": "c120e6e9-d17f-4eaa-f21b-9c15f2116f75"
   },
   "outputs": [
    {
     "name": "stdout",
     "output_type": "stream",
     "text": [
      "fake_hemingway.txt  gpt.pt  hemingway.txt  sample_data\n"
     ]
    }
   ],
   "source": [
    "!ls"
   ]
  },
  {
   "cell_type": "code",
   "execution_count": 21,
   "id": "D06ZpXbV6Rqs",
   "metadata": {
    "colab": {
     "base_uri": "https://localhost:8080/",
     "height": 17
    },
    "id": "D06ZpXbV6Rqs",
    "outputId": "09dfc9b3-ae3a-4350-9650-ccc2997f6da7"
   },
   "outputs": [
    {
     "data": {
      "application/javascript": [
       "\n",
       "    async function download(id, filename, size) {\n",
       "      if (!google.colab.kernel.accessAllowed) {\n",
       "        return;\n",
       "      }\n",
       "      const div = document.createElement('div');\n",
       "      const label = document.createElement('label');\n",
       "      label.textContent = `Downloading \"${filename}\": `;\n",
       "      div.appendChild(label);\n",
       "      const progress = document.createElement('progress');\n",
       "      progress.max = size;\n",
       "      div.appendChild(progress);\n",
       "      document.body.appendChild(div);\n",
       "\n",
       "      const buffers = [];\n",
       "      let downloaded = 0;\n",
       "\n",
       "      const channel = await google.colab.kernel.comms.open(id);\n",
       "      // Send a message to notify the kernel that we're ready.\n",
       "      channel.send({})\n",
       "\n",
       "      for await (const message of channel.messages) {\n",
       "        // Send a message to notify the kernel that we're ready.\n",
       "        channel.send({})\n",
       "        if (message.buffers) {\n",
       "          for (const buffer of message.buffers) {\n",
       "            buffers.push(buffer);\n",
       "            downloaded += buffer.byteLength;\n",
       "            progress.value = downloaded;\n",
       "          }\n",
       "        }\n",
       "      }\n",
       "      const blob = new Blob(buffers, {type: 'application/binary'});\n",
       "      const a = document.createElement('a');\n",
       "      a.href = window.URL.createObjectURL(blob);\n",
       "      a.download = filename;\n",
       "      div.appendChild(a);\n",
       "      a.click();\n",
       "      div.remove();\n",
       "    }\n",
       "  "
      ],
      "text/plain": [
       "<IPython.core.display.Javascript object>"
      ]
     },
     "metadata": {},
     "output_type": "display_data"
    },
    {
     "data": {
      "application/javascript": [
       "download(\"download_4b6c89c5-a49f-4205-9535-19a875a1259f\", \"fake_hemingway.txt\", 101)"
      ],
      "text/plain": [
       "<IPython.core.display.Javascript object>"
      ]
     },
     "metadata": {},
     "output_type": "display_data"
    },
    {
     "data": {
      "application/javascript": [
       "\n",
       "    async function download(id, filename, size) {\n",
       "      if (!google.colab.kernel.accessAllowed) {\n",
       "        return;\n",
       "      }\n",
       "      const div = document.createElement('div');\n",
       "      const label = document.createElement('label');\n",
       "      label.textContent = `Downloading \"${filename}\": `;\n",
       "      div.appendChild(label);\n",
       "      const progress = document.createElement('progress');\n",
       "      progress.max = size;\n",
       "      div.appendChild(progress);\n",
       "      document.body.appendChild(div);\n",
       "\n",
       "      const buffers = [];\n",
       "      let downloaded = 0;\n",
       "\n",
       "      const channel = await google.colab.kernel.comms.open(id);\n",
       "      // Send a message to notify the kernel that we're ready.\n",
       "      channel.send({})\n",
       "\n",
       "      for await (const message of channel.messages) {\n",
       "        // Send a message to notify the kernel that we're ready.\n",
       "        channel.send({})\n",
       "        if (message.buffers) {\n",
       "          for (const buffer of message.buffers) {\n",
       "            buffers.push(buffer);\n",
       "            downloaded += buffer.byteLength;\n",
       "            progress.value = downloaded;\n",
       "          }\n",
       "        }\n",
       "      }\n",
       "      const blob = new Blob(buffers, {type: 'application/binary'});\n",
       "      const a = document.createElement('a');\n",
       "      a.href = window.URL.createObjectURL(blob);\n",
       "      a.download = filename;\n",
       "      div.appendChild(a);\n",
       "      a.click();\n",
       "      div.remove();\n",
       "    }\n",
       "  "
      ],
      "text/plain": [
       "<IPython.core.display.Javascript object>"
      ]
     },
     "metadata": {},
     "output_type": "display_data"
    },
    {
     "data": {
      "application/javascript": [
       "download(\"download_91004d63-2f97-42a3-8e34-c847a4ec4b5f\", \"gpt.pt\", 45373238)"
      ],
      "text/plain": [
       "<IPython.core.display.Javascript object>"
      ]
     },
     "metadata": {},
     "output_type": "display_data"
    }
   ],
   "source": [
    "from google.colab import files\n",
    "\n",
    "# Download each file\n",
    "files.download('fake_hemingway.txt')\n",
    "files.download('gpt.pt')\n"
   ]
  }
 ],
 "metadata": {
  "accelerator": "GPU",
  "colab": {
   "gpuType": "A100",
   "machine_shape": "hm",
   "provenance": []
  },
  "kernelspec": {
   "display_name": "Python 3 (ipykernel)",
   "language": "python",
   "name": "python3"
  },
  "language_info": {
   "codemirror_mode": {
    "name": "ipython",
    "version": 3
   },
   "file_extension": ".py",
   "mimetype": "text/x-python",
   "name": "python",
   "nbconvert_exporter": "python",
   "pygments_lexer": "ipython3",
   "version": "3.10.16"
  }
 },
 "nbformat": 4,
 "nbformat_minor": 5
}
