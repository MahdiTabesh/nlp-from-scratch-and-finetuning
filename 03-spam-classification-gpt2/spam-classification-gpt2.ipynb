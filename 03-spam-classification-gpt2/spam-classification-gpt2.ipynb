{
 "cells": [
  {
   "cell_type": "markdown",
   "id": "58a37c11-4b5b-4afb-b0ce-e5277b43c669",
   "metadata": {},
   "source": [
    "# Spam Classification with GPT-2\n",
    "Fine-tuning GPT-2 on the SMS Spam Collection dataset for binary classification.\n"
   ]
  },
  {
   "cell_type": "code",
   "execution_count": null,
   "id": "85c15f62",
   "metadata": {
    "colab": {
     "base_uri": "https://localhost:8080/"
    },
    "id": "85c15f62",
    "outputId": "0e5fd170-5585-4c42-c371-d1f77c1a2e1a"
   },
   "outputs": [],
   "source": [
    "!pip install torchmetrics"
   ]
  },
  {
   "cell_type": "code",
   "execution_count": 2,
   "id": "X0F_Ydxvi2fe",
   "metadata": {
    "id": "X0F_Ydxvi2fe"
   },
   "outputs": [],
   "source": [
    "import torch\n",
    "from torch.utils.data import TensorDataset, DataLoader, RandomSampler, SequentialSampler\n",
    "from transformers import BertTokenizer, BertForSequenceClassification\n",
    "from transformers import GPT2Tokenizer, GPT2ForSequenceClassification, GPT2Config\n",
    "from sklearn.model_selection import train_test_split\n",
    "\n",
    "import pandas as pd\n",
    "import numpy as np\n",
    "\n",
    "from tabulate import tabulate\n",
    "from tqdm import trange\n",
    "import random\n",
    "from torchmetrics.classification import Recall, Accuracy, AUROC, Precision"
   ]
  },
  {
   "cell_type": "code",
   "execution_count": null,
   "id": "3678adfa",
   "metadata": {
    "colab": {
     "base_uri": "https://localhost:8080/"
    },
    "id": "3678adfa",
    "outputId": "934fe907-297e-4f35-f400-d92ab63c5440"
   },
   "outputs": [],
   "source": [
    "!wget 'https://archive.ics.uci.edu/ml/machine-learning-databases/00228/smsspamcollection.zip'\n",
    "!unzip -o smsspamcollection.zip"
   ]
  },
  {
   "cell_type": "code",
   "execution_count": null,
   "id": "d892553d",
   "metadata": {
    "colab": {
     "base_uri": "https://localhost:8080/"
    },
    "id": "d892553d",
    "outputId": "6a164002-89ff-4de9-ea12-3a94ee8bc9eb"
   },
   "outputs": [],
   "source": [
    "!unzip -o smsspamcollection.zip"
   ]
  },
  {
   "cell_type": "code",
   "execution_count": 6,
   "id": "dd3d5e84",
   "metadata": {
    "colab": {
     "base_uri": "https://localhost:8080/"
    },
    "id": "dd3d5e84",
    "outputId": "55d0c216-0cda-46d1-f17b-9f61f84d7581"
   },
   "outputs": [
    {
     "name": "stdout",
     "output_type": "stream",
     "text": [
      "ham\tGo until jurong point, crazy.. Available only in bugis n great world la e buffet... Cine there got amore wat...\n",
      "ham\tOk lar... Joking wif u oni...\n",
      "spam\tFree entry in 2 a wkly comp to win FA Cup final tkts 21st May 2005. Text FA to 87121 to receive entry question(std txt rate)T&C's apply 08452810075over18's\n",
      "ham\tU dun say so early hor... U c already then say...\n",
      "ham\tNah I don't think he goes to usf, he lives around here though\n",
      "spam\tFreeMsg Hey there darling it's been 3 week's now and no word back! I'd like some fun you up for it still? Tb ok! XxX std chgs to send, £1.50 to rcv\n",
      "ham\tEven my brother is not like to speak with me. They treat me like aids patent.\n",
      "ham\tAs per your request 'Melle Melle (Oru Minnaminunginte Nurungu Vettam)' has been set as your callertune for all Callers. Press *9 to copy your friends Callertune\n",
      "spam\tWINNER!! As a valued network customer you have been selected to receivea £900 prize reward! To claim call 09061701461. Claim code KL341. Valid 12 hours only.\n",
      "spam\tHad your mobile 11 months or more? U R entitled to Update to the latest colour mobiles with camera for Free! Call The Mobile Update Co FREE on 08002986030\n"
     ]
    }
   ],
   "source": [
    "!head -10 SMSSpamCollection"
   ]
  },
  {
   "cell_type": "code",
   "execution_count": 7,
   "id": "9b12150d",
   "metadata": {
    "colab": {
     "base_uri": "https://localhost:8080/"
    },
    "id": "9b12150d",
    "outputId": "e71feed5-d8ce-49ef-d115-6be51474aea3"
   },
   "outputs": [
    {
     "name": "stdout",
     "output_type": "stream",
     "text": [
      "--2025-04-23 22:43:43--  https://archive.ics.uci.edu/ml/machine-learning-databases/00228/smsspamcollection.zip\n",
      "Resolving archive.ics.uci.edu (archive.ics.uci.edu)... 128.195.10.252\n",
      "Connecting to archive.ics.uci.edu (archive.ics.uci.edu)|128.195.10.252|:443... connected.\n",
      "HTTP request sent, awaiting response... 200 OK\n",
      "Length: unspecified\n",
      "Saving to: ‘smsspamcollection.zip.3’\n",
      "\n",
      "smsspamcollection.z     [   <=>              ] 198.65K   308KB/s    in 0.6s    \n",
      "\n",
      "2025-04-23 22:43:45 (308 KB/s) - ‘smsspamcollection.zip.3’ saved [203415]\n",
      "\n",
      "Archive:  smsspamcollection.zip\n",
      "  inflating: SMSSpamCollection       \n",
      "  inflating: readme                  \n"
     ]
    }
   ],
   "source": [
    "!wget 'https://archive.ics.uci.edu/ml/machine-learning-databases/00228/smsspamcollection.zip'\n",
    "!unzip -o smsspamcollection.zip"
   ]
  },
  {
   "cell_type": "code",
   "execution_count": 8,
   "id": "98a736a1",
   "metadata": {
    "colab": {
     "base_uri": "https://localhost:8080/",
     "height": 206
    },
    "id": "98a736a1",
    "outputId": "0300f05a-6ee0-4fdf-bd8e-ba9657b9ecd8"
   },
   "outputs": [
    {
     "data": {
      "application/vnd.google.colaboratory.intrinsic+json": {
       "summary": "{\n  \"name\": \"df\",\n  \"rows\": 5574,\n  \"fields\": [\n    {\n      \"column\": \"label\",\n      \"properties\": {\n        \"dtype\": \"number\",\n        \"std\": 0,\n        \"min\": 0,\n        \"max\": 1,\n        \"num_unique_values\": 2,\n        \"samples\": [\n          1,\n          0\n        ],\n        \"semantic_type\": \"\",\n        \"description\": \"\"\n      }\n    },\n    {\n      \"column\": \"text\",\n      \"properties\": {\n        \"dtype\": \"string\",\n        \"num_unique_values\": 5171,\n        \"samples\": [\n          \"K, makes sense, btw carlos is being difficult so you guys are gonna smoke while I go pick up the second batch and get gas\\n\",\n          \"URGENT! Your mobile No *********** WON a \\u00a32,000 Bonus Caller Prize on 02/06/03! This is the 2nd attempt to reach YOU! Call 09066362220 ASAP! BOX97N7QP, 150ppm\\n\"\n        ],\n        \"semantic_type\": \"\",\n        \"description\": \"\"\n      }\n    }\n  ]\n}",
       "type": "dataframe",
       "variable_name": "df"
      },
      "text/html": [
       "\n",
       "  <div id=\"df-004713cf-a2f5-43cb-ade3-6120a659e573\" class=\"colab-df-container\">\n",
       "    <div>\n",
       "<style scoped>\n",
       "    .dataframe tbody tr th:only-of-type {\n",
       "        vertical-align: middle;\n",
       "    }\n",
       "\n",
       "    .dataframe tbody tr th {\n",
       "        vertical-align: top;\n",
       "    }\n",
       "\n",
       "    .dataframe thead th {\n",
       "        text-align: right;\n",
       "    }\n",
       "</style>\n",
       "<table border=\"1\" class=\"dataframe\">\n",
       "  <thead>\n",
       "    <tr style=\"text-align: right;\">\n",
       "      <th></th>\n",
       "      <th>label</th>\n",
       "      <th>text</th>\n",
       "    </tr>\n",
       "  </thead>\n",
       "  <tbody>\n",
       "    <tr>\n",
       "      <th>0</th>\n",
       "      <td>0</td>\n",
       "      <td>Go until jurong point, crazy.. Available only ...</td>\n",
       "    </tr>\n",
       "    <tr>\n",
       "      <th>1</th>\n",
       "      <td>0</td>\n",
       "      <td>Ok lar... Joking wif u oni...\\n</td>\n",
       "    </tr>\n",
       "    <tr>\n",
       "      <th>2</th>\n",
       "      <td>1</td>\n",
       "      <td>Free entry in 2 a wkly comp to win FA Cup fina...</td>\n",
       "    </tr>\n",
       "    <tr>\n",
       "      <th>3</th>\n",
       "      <td>0</td>\n",
       "      <td>U dun say so early hor... U c already then say...</td>\n",
       "    </tr>\n",
       "    <tr>\n",
       "      <th>4</th>\n",
       "      <td>0</td>\n",
       "      <td>Nah I don't think he goes to usf, he lives aro...</td>\n",
       "    </tr>\n",
       "  </tbody>\n",
       "</table>\n",
       "</div>\n",
       "    <div class=\"colab-df-buttons\">\n",
       "\n",
       "  <div class=\"colab-df-container\">\n",
       "    <button class=\"colab-df-convert\" onclick=\"convertToInteractive('df-004713cf-a2f5-43cb-ade3-6120a659e573')\"\n",
       "            title=\"Convert this dataframe to an interactive table.\"\n",
       "            style=\"display:none;\">\n",
       "\n",
       "  <svg xmlns=\"http://www.w3.org/2000/svg\" height=\"24px\" viewBox=\"0 -960 960 960\">\n",
       "    <path d=\"M120-120v-720h720v720H120Zm60-500h600v-160H180v160Zm220 220h160v-160H400v160Zm0 220h160v-160H400v160ZM180-400h160v-160H180v160Zm440 0h160v-160H620v160ZM180-180h160v-160H180v160Zm440 0h160v-160H620v160Z\"/>\n",
       "  </svg>\n",
       "    </button>\n",
       "\n",
       "  <style>\n",
       "    .colab-df-container {\n",
       "      display:flex;\n",
       "      gap: 12px;\n",
       "    }\n",
       "\n",
       "    .colab-df-convert {\n",
       "      background-color: #E8F0FE;\n",
       "      border: none;\n",
       "      border-radius: 50%;\n",
       "      cursor: pointer;\n",
       "      display: none;\n",
       "      fill: #1967D2;\n",
       "      height: 32px;\n",
       "      padding: 0 0 0 0;\n",
       "      width: 32px;\n",
       "    }\n",
       "\n",
       "    .colab-df-convert:hover {\n",
       "      background-color: #E2EBFA;\n",
       "      box-shadow: 0px 1px 2px rgba(60, 64, 67, 0.3), 0px 1px 3px 1px rgba(60, 64, 67, 0.15);\n",
       "      fill: #174EA6;\n",
       "    }\n",
       "\n",
       "    .colab-df-buttons div {\n",
       "      margin-bottom: 4px;\n",
       "    }\n",
       "\n",
       "    [theme=dark] .colab-df-convert {\n",
       "      background-color: #3B4455;\n",
       "      fill: #D2E3FC;\n",
       "    }\n",
       "\n",
       "    [theme=dark] .colab-df-convert:hover {\n",
       "      background-color: #434B5C;\n",
       "      box-shadow: 0px 1px 3px 1px rgba(0, 0, 0, 0.15);\n",
       "      filter: drop-shadow(0px 1px 2px rgba(0, 0, 0, 0.3));\n",
       "      fill: #FFFFFF;\n",
       "    }\n",
       "  </style>\n",
       "\n",
       "    <script>\n",
       "      const buttonEl =\n",
       "        document.querySelector('#df-004713cf-a2f5-43cb-ade3-6120a659e573 button.colab-df-convert');\n",
       "      buttonEl.style.display =\n",
       "        google.colab.kernel.accessAllowed ? 'block' : 'none';\n",
       "\n",
       "      async function convertToInteractive(key) {\n",
       "        const element = document.querySelector('#df-004713cf-a2f5-43cb-ade3-6120a659e573');\n",
       "        const dataTable =\n",
       "          await google.colab.kernel.invokeFunction('convertToInteractive',\n",
       "                                                    [key], {});\n",
       "        if (!dataTable) return;\n",
       "\n",
       "        const docLinkHtml = 'Like what you see? Visit the ' +\n",
       "          '<a target=\"_blank\" href=https://colab.research.google.com/notebooks/data_table.ipynb>data table notebook</a>'\n",
       "          + ' to learn more about interactive tables.';\n",
       "        element.innerHTML = '';\n",
       "        dataTable['output_type'] = 'display_data';\n",
       "        await google.colab.output.renderOutput(dataTable, element);\n",
       "        const docLink = document.createElement('div');\n",
       "        docLink.innerHTML = docLinkHtml;\n",
       "        element.appendChild(docLink);\n",
       "      }\n",
       "    </script>\n",
       "  </div>\n",
       "\n",
       "\n",
       "<div id=\"df-f3ed8b29-ab3b-44d3-b79c-b837019631ba\">\n",
       "  <button class=\"colab-df-quickchart\" onclick=\"quickchart('df-f3ed8b29-ab3b-44d3-b79c-b837019631ba')\"\n",
       "            title=\"Suggest charts\"\n",
       "            style=\"display:none;\">\n",
       "\n",
       "<svg xmlns=\"http://www.w3.org/2000/svg\" height=\"24px\"viewBox=\"0 0 24 24\"\n",
       "     width=\"24px\">\n",
       "    <g>\n",
       "        <path d=\"M19 3H5c-1.1 0-2 .9-2 2v14c0 1.1.9 2 2 2h14c1.1 0 2-.9 2-2V5c0-1.1-.9-2-2-2zM9 17H7v-7h2v7zm4 0h-2V7h2v10zm4 0h-2v-4h2v4z\"/>\n",
       "    </g>\n",
       "</svg>\n",
       "  </button>\n",
       "\n",
       "<style>\n",
       "  .colab-df-quickchart {\n",
       "      --bg-color: #E8F0FE;\n",
       "      --fill-color: #1967D2;\n",
       "      --hover-bg-color: #E2EBFA;\n",
       "      --hover-fill-color: #174EA6;\n",
       "      --disabled-fill-color: #AAA;\n",
       "      --disabled-bg-color: #DDD;\n",
       "  }\n",
       "\n",
       "  [theme=dark] .colab-df-quickchart {\n",
       "      --bg-color: #3B4455;\n",
       "      --fill-color: #D2E3FC;\n",
       "      --hover-bg-color: #434B5C;\n",
       "      --hover-fill-color: #FFFFFF;\n",
       "      --disabled-bg-color: #3B4455;\n",
       "      --disabled-fill-color: #666;\n",
       "  }\n",
       "\n",
       "  .colab-df-quickchart {\n",
       "    background-color: var(--bg-color);\n",
       "    border: none;\n",
       "    border-radius: 50%;\n",
       "    cursor: pointer;\n",
       "    display: none;\n",
       "    fill: var(--fill-color);\n",
       "    height: 32px;\n",
       "    padding: 0;\n",
       "    width: 32px;\n",
       "  }\n",
       "\n",
       "  .colab-df-quickchart:hover {\n",
       "    background-color: var(--hover-bg-color);\n",
       "    box-shadow: 0 1px 2px rgba(60, 64, 67, 0.3), 0 1px 3px 1px rgba(60, 64, 67, 0.15);\n",
       "    fill: var(--button-hover-fill-color);\n",
       "  }\n",
       "\n",
       "  .colab-df-quickchart-complete:disabled,\n",
       "  .colab-df-quickchart-complete:disabled:hover {\n",
       "    background-color: var(--disabled-bg-color);\n",
       "    fill: var(--disabled-fill-color);\n",
       "    box-shadow: none;\n",
       "  }\n",
       "\n",
       "  .colab-df-spinner {\n",
       "    border: 2px solid var(--fill-color);\n",
       "    border-color: transparent;\n",
       "    border-bottom-color: var(--fill-color);\n",
       "    animation:\n",
       "      spin 1s steps(1) infinite;\n",
       "  }\n",
       "\n",
       "  @keyframes spin {\n",
       "    0% {\n",
       "      border-color: transparent;\n",
       "      border-bottom-color: var(--fill-color);\n",
       "      border-left-color: var(--fill-color);\n",
       "    }\n",
       "    20% {\n",
       "      border-color: transparent;\n",
       "      border-left-color: var(--fill-color);\n",
       "      border-top-color: var(--fill-color);\n",
       "    }\n",
       "    30% {\n",
       "      border-color: transparent;\n",
       "      border-left-color: var(--fill-color);\n",
       "      border-top-color: var(--fill-color);\n",
       "      border-right-color: var(--fill-color);\n",
       "    }\n",
       "    40% {\n",
       "      border-color: transparent;\n",
       "      border-right-color: var(--fill-color);\n",
       "      border-top-color: var(--fill-color);\n",
       "    }\n",
       "    60% {\n",
       "      border-color: transparent;\n",
       "      border-right-color: var(--fill-color);\n",
       "    }\n",
       "    80% {\n",
       "      border-color: transparent;\n",
       "      border-right-color: var(--fill-color);\n",
       "      border-bottom-color: var(--fill-color);\n",
       "    }\n",
       "    90% {\n",
       "      border-color: transparent;\n",
       "      border-bottom-color: var(--fill-color);\n",
       "    }\n",
       "  }\n",
       "</style>\n",
       "\n",
       "  <script>\n",
       "    async function quickchart(key) {\n",
       "      const quickchartButtonEl =\n",
       "        document.querySelector('#' + key + ' button');\n",
       "      quickchartButtonEl.disabled = true;  // To prevent multiple clicks.\n",
       "      quickchartButtonEl.classList.add('colab-df-spinner');\n",
       "      try {\n",
       "        const charts = await google.colab.kernel.invokeFunction(\n",
       "            'suggestCharts', [key], {});\n",
       "      } catch (error) {\n",
       "        console.error('Error during call to suggestCharts:', error);\n",
       "      }\n",
       "      quickchartButtonEl.classList.remove('colab-df-spinner');\n",
       "      quickchartButtonEl.classList.add('colab-df-quickchart-complete');\n",
       "    }\n",
       "    (() => {\n",
       "      let quickchartButtonEl =\n",
       "        document.querySelector('#df-f3ed8b29-ab3b-44d3-b79c-b837019631ba button');\n",
       "      quickchartButtonEl.style.display =\n",
       "        google.colab.kernel.accessAllowed ? 'block' : 'none';\n",
       "    })();\n",
       "  </script>\n",
       "</div>\n",
       "\n",
       "    </div>\n",
       "  </div>\n"
      ],
      "text/plain": [
       "   label                                               text\n",
       "0      0  Go until jurong point, crazy.. Available only ...\n",
       "1      0                    Ok lar... Joking wif u oni...\\n\n",
       "2      1  Free entry in 2 a wkly comp to win FA Cup fina...\n",
       "3      0  U dun say so early hor... U c already then say...\n",
       "4      0  Nah I don't think he goes to usf, he lives aro..."
      ]
     },
     "execution_count": 8,
     "metadata": {},
     "output_type": "execute_result"
    }
   ],
   "source": [
    "file_path = 'SMSSpamCollection'\n",
    "df = pd.DataFrame({'label':int(), 'text':str()}, index = [])\n",
    "with open(file_path) as f:\n",
    "    for line in f.readlines():\n",
    "        split = line.split('\\t')\n",
    "        df = pd.concat([\n",
    "                df,\n",
    "                pd.DataFrame.from_dict({\n",
    "                    'label': [1 if split[0] == 'spam' else 0],\n",
    "                    'text': [split[1]]\n",
    "                })\n",
    "            ],\n",
    "            ignore_index=True\n",
    "        )\n",
    "df.head()"
   ]
  },
  {
   "cell_type": "code",
   "execution_count": 9,
   "id": "79a5cb02",
   "metadata": {
    "id": "79a5cb02"
   },
   "outputs": [],
   "source": [
    "text = df.text.values\n",
    "labels = df.label.values"
   ]
  },
  {
   "cell_type": "code",
   "execution_count": null,
   "id": "dce193a4",
   "metadata": {
    "colab": {
     "base_uri": "https://localhost:8080/"
    },
    "id": "dce193a4",
    "outputId": "3b30d0f5-294e-4a40-e7d0-75842ee0e8cd"
   },
   "outputs": [],
   "source": [
    "tokenizer = GPT2Tokenizer.from_pretrained('gpt2')\n",
    "tokenizer.pad_token = tokenizer.eos_token\n",
    "\n",
    "tokenizer.padding_side = 'left'"
   ]
  },
  {
   "cell_type": "code",
   "execution_count": 11,
   "id": "c00a3e7e",
   "metadata": {
    "colab": {
     "base_uri": "https://localhost:8080/"
    },
    "id": "c00a3e7e",
    "outputId": "d34ffde6-30ad-428e-a47e-16c70fa8eb5d"
   },
   "outputs": [
    {
     "name": "stdout",
     "output_type": "stream",
     "text": [
      "Yunny... I'm goin to be late\n",
      "\n",
      "╒══════════╤═════════════╕\n",
      "│ Tokens   │   Token IDs │\n",
      "╞══════════╪═════════════╡\n",
      "│ Y        │          56 │\n",
      "├──────────┼─────────────┤\n",
      "│ unny     │       16948 │\n",
      "├──────────┼─────────────┤\n",
      "│ ...      │         986 │\n",
      "├──────────┼─────────────┤\n",
      "│ ĠI       │         314 │\n",
      "├──────────┼─────────────┤\n",
      "│ 'm       │        1101 │\n",
      "├──────────┼─────────────┤\n",
      "│ Ġgo      │         467 │\n",
      "├──────────┼─────────────┤\n",
      "│ in       │         259 │\n",
      "├──────────┼─────────────┤\n",
      "│ Ġto      │         284 │\n",
      "├──────────┼─────────────┤\n",
      "│ Ġbe      │         307 │\n",
      "├──────────┼─────────────┤\n",
      "│ Ġlate    │        2739 │\n",
      "├──────────┼─────────────┤\n",
      "│ Ċ        │         198 │\n",
      "╘══════════╧═════════════╛\n"
     ]
    }
   ],
   "source": [
    "def print_rand_sentence():\n",
    "    '''Displays the tokens and respective IDs of a random text sample'''\n",
    "    index = random.randint(0, len(text)-1)\n",
    "    print(text[index])\n",
    "    table = np.array([tokenizer.tokenize(text[index]),\n",
    "                    tokenizer.convert_tokens_to_ids(tokenizer.tokenize(text[index]))]).T\n",
    "    print(tabulate(table,\n",
    "                 headers = ['Tokens', 'Token IDs'],\n",
    "                 tablefmt = 'fancy_grid'))\n",
    "\n",
    "print_rand_sentence()"
   ]
  },
  {
   "cell_type": "code",
   "execution_count": 12,
   "id": "e85d0895",
   "metadata": {
    "id": "e85d0895"
   },
   "outputs": [],
   "source": [
    "token_id = []\n",
    "attention_masks = []\n",
    "\n",
    "def preprocessing(input_text, tokenizer):\n",
    "\n",
    "  return tokenizer.encode_plus(\n",
    "      input_text,\n",
    "      max_length=32,\n",
    "      padding='max_length',\n",
    "      truncation=True,\n",
    "      return_tensors='pt',\n",
    "      return_attention_mask=True\n",
    "  )\n",
    "\n",
    "\n",
    "for sample in text:\n",
    "    encoding_dict = preprocessing(sample, tokenizer)\n",
    "    token_id.append(encoding_dict['input_ids'])\n",
    "    attention_masks.append(encoding_dict['attention_mask'])\n",
    "\n",
    "\n",
    "# Gather all the torch_id, attention masks, and labels\n",
    "token_id = torch.cat(token_id, dim=0)\n",
    "attention_masks = torch.cat(attention_masks, dim=0)\n",
    "labels = torch.tensor(labels)"
   ]
  },
  {
   "cell_type": "code",
   "execution_count": 13,
   "id": "222e06a7",
   "metadata": {
    "colab": {
     "base_uri": "https://localhost:8080/"
    },
    "id": "222e06a7",
    "outputId": "1057f891-6566-4a54-c420-1a9c7153982c"
   },
   "outputs": [
    {
     "name": "stdout",
     "output_type": "stream",
     "text": [
      "['<|endoftext|>', '<|endoftext|>', '<|endoftext|>', '<|endoftext|>', '<|endoftext|>', '<|endoftext|>', '<|endoftext|>', '<|endoftext|>', '<|endoftext|>', '<|endoftext|>', '<|endoftext|>', '<|endoftext|>', '<|endoftext|>', '<|endoftext|>', '<|endoftext|>', '<|endoftext|>', '<|endoftext|>', '<|endoftext|>', '<|endoftext|>', '<|endoftext|>', 'Just', 'Ġnow', 'Ġsaw', 'Ġyour', 'Ġmessage', '.', 'it', 'Ġk', 'Ġda', ':', ')', 'Ċ']\n",
      "╒═══════════════╤═════════════╤══════════════════╕\n",
      "│ Tokens        │   Token IDs │   Attention Mask │\n",
      "╞═══════════════╪═════════════╪══════════════════╡\n",
      "│ <|endoftext|> │       50256 │                0 │\n",
      "├───────────────┼─────────────┼──────────────────┤\n",
      "│ <|endoftext|> │       50256 │                0 │\n",
      "├───────────────┼─────────────┼──────────────────┤\n",
      "│ <|endoftext|> │       50256 │                0 │\n",
      "├───────────────┼─────────────┼──────────────────┤\n",
      "│ <|endoftext|> │       50256 │                0 │\n",
      "├───────────────┼─────────────┼──────────────────┤\n",
      "│ <|endoftext|> │       50256 │                0 │\n",
      "├───────────────┼─────────────┼──────────────────┤\n",
      "│ <|endoftext|> │       50256 │                0 │\n",
      "├───────────────┼─────────────┼──────────────────┤\n",
      "│ <|endoftext|> │       50256 │                0 │\n",
      "├───────────────┼─────────────┼──────────────────┤\n",
      "│ <|endoftext|> │       50256 │                0 │\n",
      "├───────────────┼─────────────┼──────────────────┤\n",
      "│ <|endoftext|> │       50256 │                0 │\n",
      "├───────────────┼─────────────┼──────────────────┤\n",
      "│ <|endoftext|> │       50256 │                0 │\n",
      "├───────────────┼─────────────┼──────────────────┤\n",
      "│ <|endoftext|> │       50256 │                0 │\n",
      "├───────────────┼─────────────┼──────────────────┤\n",
      "│ <|endoftext|> │       50256 │                0 │\n",
      "├───────────────┼─────────────┼──────────────────┤\n",
      "│ <|endoftext|> │       50256 │                0 │\n",
      "├───────────────┼─────────────┼──────────────────┤\n",
      "│ <|endoftext|> │       50256 │                0 │\n",
      "├───────────────┼─────────────┼──────────────────┤\n",
      "│ <|endoftext|> │       50256 │                0 │\n",
      "├───────────────┼─────────────┼──────────────────┤\n",
      "│ <|endoftext|> │       50256 │                0 │\n",
      "├───────────────┼─────────────┼──────────────────┤\n",
      "│ <|endoftext|> │       50256 │                0 │\n",
      "├───────────────┼─────────────┼──────────────────┤\n",
      "│ <|endoftext|> │       50256 │                0 │\n",
      "├───────────────┼─────────────┼──────────────────┤\n",
      "│ <|endoftext|> │       50256 │                0 │\n",
      "├───────────────┼─────────────┼──────────────────┤\n",
      "│ <|endoftext|> │       50256 │                0 │\n",
      "├───────────────┼─────────────┼──────────────────┤\n",
      "│ Just          │        5703 │                1 │\n",
      "├───────────────┼─────────────┼──────────────────┤\n",
      "│ Ġnow          │         783 │                1 │\n",
      "├───────────────┼─────────────┼──────────────────┤\n",
      "│ Ġsaw          │        2497 │                1 │\n",
      "├───────────────┼─────────────┼──────────────────┤\n",
      "│ Ġyour         │         534 │                1 │\n",
      "├───────────────┼─────────────┼──────────────────┤\n",
      "│ Ġmessage      │        3275 │                1 │\n",
      "├───────────────┼─────────────┼──────────────────┤\n",
      "│ .             │          13 │                1 │\n",
      "├───────────────┼─────────────┼──────────────────┤\n",
      "│ it            │         270 │                1 │\n",
      "├───────────────┼─────────────┼──────────────────┤\n",
      "│ Ġk            │         479 │                1 │\n",
      "├───────────────┼─────────────┼──────────────────┤\n",
      "│ Ġda           │       12379 │                1 │\n",
      "├───────────────┼─────────────┼──────────────────┤\n",
      "│ :             │          25 │                1 │\n",
      "├───────────────┼─────────────┼──────────────────┤\n",
      "│ )             │           8 │                1 │\n",
      "├───────────────┼─────────────┼──────────────────┤\n",
      "│ Ċ             │         198 │                1 │\n",
      "╘═══════════════╧═════════════╧══════════════════╛\n"
     ]
    }
   ],
   "source": [
    "def print_rand_sentence_encoding():\n",
    "    '''Displays tokens, token IDs and attention mask of a random text sample'''\n",
    "    index = random.randint(0, len(text) - 1)\n",
    "    tokens = tokenizer.tokenize(tokenizer.decode(token_id[index]))\n",
    "    print(tokens)\n",
    "    token_ids = [i.numpy() for i in token_id[index]]\n",
    "    attention = [i.numpy() for i in attention_masks[index]]\n",
    "    table = np.array([tokens, token_ids, attention]).T\n",
    "    print(\n",
    "        tabulate(\n",
    "            table,\n",
    "            headers = ['Tokens', 'Token IDs', 'Attention Mask'],\n",
    "            tablefmt = 'fancy_grid')\n",
    "    )\n",
    "\n",
    "print_rand_sentence_encoding()"
   ]
  },
  {
   "cell_type": "code",
   "execution_count": 14,
   "id": "e1c2c10b",
   "metadata": {
    "id": "e1c2c10b"
   },
   "outputs": [],
   "source": [
    "val_ratio = 0.2\n",
    "# Batch size (chosen 16 here for balance between speed and memory)\n",
    "batch_size = 16\n",
    "\n",
    "# Use train_test_split\n",
    "train_idx, val_idx = train_test_split(\n",
    "    np.arange(len(labels)),\n",
    "    test_size=val_ratio,\n",
    "    random_state=42,\n",
    "    stratify=labels.numpy()  # ensure same label distribution\n",
    ")\n",
    "\n",
    "# Train and validation sets\n",
    "# Set to TensorDataset\n",
    "train_set = TensorDataset(token_id[train_idx], attention_masks[train_idx], labels[train_idx])\n",
    "\n",
    "val_set = TensorDataset(token_id[val_idx], attention_masks[val_idx], labels[val_idx])\n",
    "\n",
    "# Prepare DataLoader\n",
    "train_dataloader = DataLoader(train_set, batch_size=batch_size, shuffle=True, drop_last=False)\n",
    "\n",
    "validation_dataloader = DataLoader(val_set, batch_size=batch_size, shuffle=False, drop_last=False)"
   ]
  },
  {
   "cell_type": "code",
   "execution_count": 14,
   "id": "155cdefa",
   "metadata": {
    "id": "155cdefa"
   },
   "outputs": [],
   "source": []
  },
  {
   "cell_type": "markdown",
   "id": "40bcf8c4",
   "metadata": {
    "id": "40bcf8c4"
   },
   "source": [
    "### Load specific versions of the model"
   ]
  },
  {
   "cell_type": "code",
   "execution_count": 15,
   "id": "f85fc88e",
   "metadata": {
    "colab": {
     "base_uri": "https://localhost:8080/"
    },
    "id": "f85fc88e",
    "outputId": "10f693e2-57e7-4983-c59e-a44474b4cd5d"
   },
   "outputs": [
    {
     "name": "stderr",
     "output_type": "stream",
     "text": [
      "Some weights of GPT2ForSequenceClassification were not initialized from the model checkpoint at gpt2 and are newly initialized: ['score.weight']\n",
      "You should probably TRAIN this model on a down-stream task to be able to use it for predictions and inference.\n"
     ]
    }
   ],
   "source": [
    "# Load GPT-2 for sequence classification with 2 labels\n",
    "\n",
    "config = GPT2Config.from_pretrained(\n",
    "    'gpt2',\n",
    "    num_labels=2,\n",
    "    output_attentions=False,\n",
    "    output_hidden_states=False\n",
    ")\n",
    "\n",
    "model = GPT2ForSequenceClassification.from_pretrained('gpt2', config=config)\n",
    "\n",
    "# Set the pad token id to the eos token id\n",
    "model.config.pad_token_id = tokenizer.eos_token_id\n",
    "\n",
    "# Learning rate for AdamW optimizer\n",
    "optimizer = torch.optim.AdamW(\n",
    "    model.parameters(),\n",
    "    lr = 5e-5,\n",
    "    eps = 1e-08\n",
    ")"
   ]
  },
  {
   "cell_type": "code",
   "execution_count": 15,
   "id": "c5ea7837",
   "metadata": {
    "id": "c5ea7837"
   },
   "outputs": [],
   "source": []
  },
  {
   "cell_type": "markdown",
   "id": "a36b60bf",
   "metadata": {
    "id": "a36b60bf"
   },
   "source": [
    "### Set the model to the right device"
   ]
  },
  {
   "cell_type": "code",
   "execution_count": 16,
   "id": "071b1a84",
   "metadata": {
    "id": "071b1a84"
   },
   "outputs": [],
   "source": [
    "# Select device (GPU if available)\n",
    "device = 'cuda' if torch.cuda.is_available() else 'cpu'"
   ]
  },
  {
   "cell_type": "code",
   "execution_count": 17,
   "id": "4811b9f5",
   "metadata": {
    "id": "4811b9f5"
   },
   "outputs": [],
   "source": [
    "model = model.to(device)\n",
    "\n",
    "epochs = 2"
   ]
  },
  {
   "cell_type": "code",
   "execution_count": 18,
   "id": "f9f4e75e",
   "metadata": {
    "colab": {
     "base_uri": "https://localhost:8080/"
    },
    "id": "f9f4e75e",
    "outputId": "68a1e42d-51f9-4cc8-e323-fe6031cb1f4b"
   },
   "outputs": [
    {
     "name": "stdout",
     "output_type": "stream",
     "text": [
      "Total trainable parameters: 124441344\n"
     ]
    }
   ],
   "source": [
    "# If this is False, fine tune just the classifier layer and leave all other GPT2 parameters alone\n",
    "# If this is True, fine tune everything\n",
    "fine_tune = True # I set to 'False' in my second experiment to use GPT-2 as a frozen feature extractor\n",
    "\n",
    "# Turn off gradients using the above\n",
    "if not fine_tune:\n",
    "    for param in model.transformer.parameters():\n",
    "        param.requires_grad = False\n",
    "\n",
    "total_parameters = sum(p.numel() for p in model.parameters() if p.requires_grad)\n",
    "print(f\"Total trainable parameters: {total_parameters}\")\n",
    "assert (fine_tune and total_parameters == 124441344) or (not fine_tune and total_parameters < 124441344)"
   ]
  },
  {
   "cell_type": "code",
   "execution_count": 18,
   "id": "dd1c248c",
   "metadata": {
    "id": "dd1c248c"
   },
   "outputs": [],
   "source": []
  },
  {
   "cell_type": "markdown",
   "id": "765fc3a1",
   "metadata": {
    "id": "765fc3a1"
   },
   "source": [
    "### Train the model"
   ]
  },
  {
   "cell_type": "code",
   "execution_count": 18,
   "id": "1fd8d459",
   "metadata": {
    "id": "1fd8d459"
   },
   "outputs": [],
   "source": []
  },
  {
   "cell_type": "code",
   "execution_count": 19,
   "id": "bf0b712e",
   "metadata": {
    "id": "bf0b712e"
   },
   "outputs": [],
   "source": [
    "# Use torchmetrics to set up accuracy, recall, precision, and auroc\n",
    "accuracy = Accuracy(task=\"binary\").to(device)\n",
    "recall = Recall(task=\"binary\").to(device)\n",
    "precision = Precision(task=\"binary\").to(device)\n",
    "auroc = AUROC(task=\"binary\").to(device)"
   ]
  },
  {
   "cell_type": "code",
   "execution_count": 20,
   "id": "084519f5",
   "metadata": {
    "colab": {
     "base_uri": "https://localhost:8080/"
    },
    "id": "084519f5",
    "outputId": "fc874585-2a22-4431-e018-fdb8cd30d3db"
   },
   "outputs": [
    {
     "name": "stderr",
     "output_type": "stream",
     "text": [
      "\r",
      "Epoch:   0%|          | 0/2 [00:00<?, ?it/s]/usr/local/lib/python3.11/dist-packages/torchmetrics/utilities/prints.py:43: UserWarning: No positive samples in targets, true positive value should be meaningless. Returning zero tensor in true positive score\n",
      "  warnings.warn(*args, **kwargs)\n",
      "Epoch:  50%|█████     | 1/2 [00:12<00:12, 12.92s/it]"
     ]
    },
    {
     "name": "stdout",
     "output_type": "stream",
     "text": [
      "\n",
      "\t - Train loss: 0.1100\n",
      "\t - Validation Accuracy: 0.9884\n",
      "\t - Validation Precision: 0.8714\n",
      "\t - Validation Recall: 0.8186\n",
      "\t - Validation AUROC: 0.9075\n",
      "\n"
     ]
    },
    {
     "name": "stderr",
     "output_type": "stream",
     "text": [
      "Epoch: 100%|██████████| 2/2 [00:25<00:00, 12.71s/it]"
     ]
    },
    {
     "name": "stdout",
     "output_type": "stream",
     "text": [
      "\n",
      "\t - Train loss: 0.0428\n",
      "\t - Validation Accuracy: 0.9902\n",
      "\t - Validation Precision: 0.8810\n",
      "\t - Validation Recall: 0.8738\n",
      "\t - Validation AUROC: 0.9095\n",
      "\n"
     ]
    },
    {
     "name": "stderr",
     "output_type": "stream",
     "text": [
      "\n"
     ]
    }
   ],
   "source": [
    "# Main training / validation loop\n",
    "for _ in trange(epochs, desc = 'Epoch'):\n",
    "\n",
    "    # Set model to training mode\n",
    "    model.train()\n",
    "\n",
    "    # Tracking variables\n",
    "    tr_loss = 0\n",
    "    nb_tr_examples, nb_tr_steps = 0, 0\n",
    "\n",
    "    for step, batch in enumerate(train_dataloader):\n",
    "        # Put each element of batch onto the device\n",
    "        batch = tuple(t.to(device) for t in batch)\n",
    "\n",
    "        # Unpack the batch\n",
    "        b_input_ids, b_input_mask, b_labels = batch\n",
    "\n",
    "        # Set gradients to zero\n",
    "        optimizer.zero_grad()\n",
    "\n",
    "        # Forward pass\n",
    "        train_output = model(b_input_ids, attention_mask=b_input_mask, labels=b_labels)\n",
    "        loss = train_output.loss\n",
    "        # Backward pass\n",
    "        loss.backward()\n",
    "        optimizer.step()\n",
    "\n",
    "        # Update tracking variables\n",
    "        tr_loss += loss.item()\n",
    "        nb_tr_examples += b_labels.size(0)\n",
    "        nb_tr_steps += 1\n",
    "\n",
    "    # ========== Validation ==========\n",
    "\n",
    "    # Set model to evaluation mode\n",
    "    model.eval()\n",
    "\n",
    "    # Tracking variables\n",
    "    val_accuracy = []\n",
    "    val_precision = []\n",
    "    val_recall = []\n",
    "    val_auroc = []\n",
    "\n",
    "    for batch in validation_dataloader:\n",
    "        batch = tuple(t.to(device) for t in batch)\n",
    "\n",
    "        # Unpack the batch\n",
    "        b_input_ids, b_input_mask, b_labels = batch\n",
    "\n",
    "        with torch.no_grad():\n",
    "          # Forward pass\n",
    "            eval_output = model(b_input_ids, attention_mask=b_input_mask, labels=b_labels)\n",
    "\n",
    "        # Calculate validation metrics\n",
    "        labels = b_labels\n",
    "        logits = eval_output.logits\n",
    "        predicted_labels = torch.argmax(logits, dim=1)\n",
    "        probs = torch.softmax(logits, dim=1)\n",
    "        preds_prob = probs[:, 1]\n",
    "\n",
    "        val_accuracy.append(accuracy(predicted_labels, labels).item())\n",
    "        val_recall.append(recall(predicted_labels, labels).item())\n",
    "        val_precision.append(precision(predicted_labels, labels).item())\n",
    "        val_auroc.append(auroc(preds_prob, labels).item())\n",
    "\n",
    "    print('\\n\\t - Train loss: {:.4f}'.format(tr_loss / nb_tr_steps))\n",
    "    print('\\t - Validation Accuracy: {:.4f}'.format(sum(val_accuracy)/len(val_accuracy)))\n",
    "    print('\\t - Validation Precision: {:.4f}'.format(sum(val_precision)/len(val_precision)))\n",
    "    print('\\t - Validation Recall: {:.4f}'.format(sum(val_recall)/len(val_recall)))\n",
    "    print('\\t - Validation AUROC: {:.4f}\\n'.format(sum(val_auroc)/len(val_auroc)))"
   ]
  },
  {
   "cell_type": "code",
   "execution_count": 20,
   "id": "c029bd94",
   "metadata": {
    "id": "c029bd94"
   },
   "outputs": [],
   "source": []
  },
  {
   "cell_type": "markdown",
   "id": "13d64bc6",
   "metadata": {
    "id": "13d64bc6"
   },
   "source": [
    "### Test on a specific sentence, see the outcome"
   ]
  },
  {
   "cell_type": "code",
   "execution_count": 21,
   "id": "6dfcd9e7",
   "metadata": {
    "colab": {
     "base_uri": "https://localhost:8080/"
    },
    "id": "6dfcd9e7",
    "outputId": "e6421a6d-c069-41ec-c129-53160de6f5f1"
   },
   "outputs": [
    {
     "name": "stdout",
     "output_type": "stream",
     "text": [
      "Input Sentence:  WINNER!! As a valued network customer you have been selected to receivea £900 prize reward! To claim call 09061701461. Claim code KL341. Valid 12 hours only.\n",
      "Predicted Class:  Spam\n"
     ]
    }
   ],
   "source": [
    "new_sentence = 'WINNER!! As a valued network customer you have been selected to receivea £900 prize reward! To claim call 09061701461. Claim code KL341. Valid 12 hours only.'\n",
    "\n",
    "# We need Token IDs and Attention Mask for inference on the new sentence\n",
    "test_ids = []\n",
    "test_attention_mask = []\n",
    "\n",
    "# Apply the tokenizer\n",
    "encoding = preprocessing(new_sentence, tokenizer)\n",
    "\n",
    "# Extract IDs and Attention Mask\n",
    "test_ids.append(encoding['input_ids'])\n",
    "test_attention_mask.append(encoding['attention_mask'])\n",
    "test_ids = torch.cat(test_ids, dim = 0)\n",
    "test_attention_mask = torch.cat(test_attention_mask, dim = 0)\n",
    "\n",
    "# Forward pass, calculate logit predictions\n",
    "with torch.no_grad():\n",
    "    output = model(test_ids.to(device), token_type_ids = None, attention_mask = test_attention_mask.to(device))\n",
    "\n",
    "prediction = 'Spam' if np.argmax(output.logits.cpu().numpy()).flatten().item() == 1 else 'Ham'\n",
    "\n",
    "print('Input Sentence: ', new_sentence)\n",
    "print('Predicted Class: ', prediction)"
   ]
  },
  {
   "cell_type": "code",
   "execution_count": 21,
   "id": "e4453061",
   "metadata": {
    "id": "e4453061"
   },
   "outputs": [],
   "source": []
  },
  {
   "cell_type": "code",
   "execution_count": 21,
   "id": "rQElCJ9hv1ky",
   "metadata": {
    "id": "rQElCJ9hv1ky"
   },
   "outputs": [],
   "source": []
  },
  {
   "cell_type": "markdown",
   "id": "56a3cf4a-8fef-450c-89e4-8aeeef408ba4",
   "metadata": {
    "id": "ZJm2R6Oasz0j"
   },
   "source": [
    "## Experiment: Fine-Tuning vs Frozen GPT-2\n",
    "\n",
    "We compared two different training strategies for GPT-2 on the SMS Spam dataset:\n",
    "\n",
    "- **Fine-Tuned GPT-2 (Full Model Training)**  \n",
    "  All transformer layers and the classification head were trained end-to-end.\n",
    "\n",
    "- **Frozen GPT-2 (Feature Extractor)**  \n",
    "  The GPT-2 transformer layers were kept frozen, and only the classification head was trained.\n",
    "\n",
    "---\n",
    "\n",
    "### Results\n",
    "\n",
    "**Fine-Tuned GPT-2 (Epoch 2)**  \n",
    "- Validation Accuracy: **99.02%**  \n",
    "- Precision: **88.10%**  \n",
    "- Recall: **87.38%**  \n",
    "- AUROC: **90.95%**\n",
    "\n",
    "**Frozen GPT-2 (Epoch 2)**  \n",
    "- Validation Accuracy: **91.44%**  \n",
    "- Precision: **62.26%**  \n",
    "- Recall: **52.02%**  \n",
    "- AUROC: **83.69%**\n",
    "\n",
    "---\n",
    "\n",
    "### Performance Gap Summary\n",
    "\n",
    "| Metric      | Fine-Tuned GPT-2 | Frozen GPT-2 | Gap     |\n",
    "|-------------|------------------|--------------|---------|\n",
    "| Accuracy    | 99.02%           | 91.44%       | -7.58%  |\n",
    "| Precision   | 88.10%           | 62.26%       | -25.84% |\n",
    "| Recall      | 87.38%           | 52.02%       | -35.36% |\n",
    "| AUROC       | 90.95%           | 83.69%       | -7.26%  |\n",
    "\n",
    "---\n",
    "\n",
    "### Conclusion\n",
    "\n",
    "Fine-tuning the entire GPT-2 model significantly boosts all evaluation metrics compared to using it as a static feature extractor.  \n",
    "The gains are most notable in **recall** and **precision**, which are critical for spam detection tasks.  \n",
    "This highlights the importance of adapting pretrained language models through end-to-end fine-tuning for task-specific performance.\n"
   ]
  },
  {
   "cell_type": "code",
   "execution_count": null,
   "id": "d8195956-e72a-44f7-b302-d4db6c664f1a",
   "metadata": {},
   "outputs": [],
   "source": []
  }
 ],
 "metadata": {
  "accelerator": "GPU",
  "colab": {
   "gpuType": "A100",
   "machine_shape": "hm",
   "provenance": []
  },
  "kernelspec": {
   "display_name": "Python 3 (ipykernel)",
   "language": "python",
   "name": "python3"
  },
  "language_info": {
   "codemirror_mode": {
    "name": "ipython",
    "version": 3
   },
   "file_extension": ".py",
   "mimetype": "text/x-python",
   "name": "python",
   "nbconvert_exporter": "python",
   "pygments_lexer": "ipython3",
   "version": "3.10.16"
  }
 },
 "nbformat": 4,
 "nbformat_minor": 5
}
